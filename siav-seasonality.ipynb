{
 "cells": [
  {
   "cell_type": "code",
   "execution_count": 1,
   "id": "b7f8d3b2-a5ba-41db-b15c-c75552a2c823",
   "metadata": {},
   "outputs": [],
   "source": [
    "import os\n",
    "import sys\n",
    "from glob import glob\n",
    "\n",
    "import cartopy.crs as ccrs\n",
    "import cmocean\n",
    "import dask\n",
    "import matplotlib.colors as colors\n",
    "import matplotlib.pyplot as plt\n",
    "import numpy as np\n",
    "import xarray as xr\n",
    "from scipy.stats import pearsonr\n",
    "\n",
    "# Local Utils\n",
    "sys.path.insert(0, \"/glade/work/zespinosa/Projects/climate-utils\")\n",
    "from utils import (\n",
    "    plot_stationary_sp,\n",
    "    xarray_monthly_to_time,\n",
    "    xarray_time_to_monthly,\n",
    "    detrend_data,\n",
    ")"
   ]
  },
  {
   "cell_type": "code",
   "execution_count": 58,
   "id": "1efabac6-ff75-4ea5-9ce1-47fda508a430",
   "metadata": {},
   "outputs": [],
   "source": [
    "nh_obs = xr.open_dataset(\"/glade/work/zespinosa/data/nsidc/processed/nh_sia_sie_NSIDC_197901-202210.nc\")\n",
    "sh_obs = xr.open_dataset(\"/glade/work/zespinosa/data/nsidc/processed/sia_sie_NSIDC_197901-202210.nc\").sel(region=\"total\")\n",
    "\n",
    "sh_monthly = xarray_time_to_monthly(sh_obs)\n",
    "nh_monthly = xarray_time_to_monthly(nh_obs)\n",
    "\n",
    "sh_monthly = detrend_data(sh_monthly.sia, x=sh_monthly.year, x_dim=\"year\")\n",
    "nh_monthly = detrend_data(nh_monthly.sia, x=nh_monthly.year, x_dim=\"year\")"
   ]
  },
  {
   "cell_type": "markdown",
   "id": "fc97fe18-8ca9-40dd-91df-56bf3d90fa22",
   "metadata": {
    "tags": []
   },
   "source": [
    "# Variance Bar Plot"
   ]
  },
  {
   "cell_type": "code",
   "execution_count": 60,
   "id": "451e5948-f614-4ecf-b432-4bdeeeac3ba7",
   "metadata": {},
   "outputs": [],
   "source": [
    "def get_var_change(df):\n",
    "    hist_yrs = np.arange(1979, 2000)\n",
    "    cur_yrs = np.arange(2000, 2022)\n",
    "    \n",
    "    return (\n",
    "        df.sel(year=cur_yrs).std([\"year\"], skipna=True), \n",
    "        df.sel(year=hist_yrs).std([\"year\"], skipna=True),\n",
    "        df.sel(year=cur_yrs).mean([\"year\"], skipna=True), \n",
    "        df.sel(year=hist_yrs).mean([\"year\"], skipna=True) \n",
    "    )\n",
    "    \n",
    "    return df_std\n",
    "\n",
    "sh_std_cur, sh_std_hist, sh_mu_cur, sh_mu_hist = get_var_change(sh_monthly)\n",
    "nh_std_cur, nh_std_hist, nh_mu_cur, nh_mu_hist = get_var_change(nh_monthly)"
   ]
  },
  {
   "cell_type": "code",
   "execution_count": 84,
   "id": "e7546da3-8007-4fd8-8f5e-6b0d0a2d60e3",
   "metadata": {},
   "outputs": [
    {
     "data": {
      "image/png": "[encoded data removed]",
      "text/plain": [
       "<Figure size 640x480 with 1 Axes>"
      ]
     },
     "metadata": {},
     "output_type": "display_data"
    }
   ],
   "source": [
    "def plot_var_change(df_hist, df_cur, hem):\n",
    "    width = .30\n",
    "    months = np.arange(12)\n",
    "    plt.grid(True)\n",
    "    plt.bar(months - width, df_cur.values, width=width, label=\"2001-2021\", color=\"navy\")\n",
    "    plt.bar(months, df_hist.values, width=width, label=\"1979-2000\", color=\"maroon\")\n",
    "    plt.xticks(months - width/2, labels=[\"J\", \"F\", \"M\", \"A\", \"M\", \"J\", \"J\", \"A\", \"S\", \"O\", \"N\", \"D\"])\n",
    "    plt.legend()\n",
    "    plt.ylabel(\"$10^6$ km$^2$\")\n",
    "    plt.title(f\"{hem} STD\", loc=\"left\")\n",
    "    plt.ylim(0, .6)\n",
    "    plt.savefig(f\"/glade/work/zespinosa/Projects/sia-var-controls/figures/{hem}_std_change.png\")\n",
    "    \n",
    "plot_var_change(nh_std_hist, nh_std_cur, hem=\"NH\")"
   ]
  },
  {
   "cell_type": "markdown",
   "id": "46d86329-4918-4146-b4be-fc2f3d2d40ad",
   "metadata": {},
   "source": [
    "# Variance Spatial Analysis"
   ]
  },
  {
   "cell_type": "code",
   "execution_count": 71,
   "id": "0a7f0f06-ad7c-40e5-b556-292282e99eea",
   "metadata": {},
   "outputs": [],
   "source": [
    "# Load SH nsidc siconc\n",
    "nsidc_siconc_anoms = xr.open_dataarray(\"/glade/work/zespinosa/Projects/antarctic-2022_record-low_nudge-analysis/processed_data/nsidc_siconc-anoms_197901-202211.nc\")\n",
    "nsidc_siconc = xarray_time_to_monthly(xr.open_dataset(\"/glade/work/zespinosa/data/nsidc/processed/siconc_NSIDC_197901-202210.nc\").cdr_seaice_conc_monthly)"
   ]
  },
  {
   "cell_type": "code",
   "execution_count": 81,
   "id": "14c60239-3192-4493-8e59-44c23810dd4d",
   "metadata": {},
   "outputs": [
    {
     "name": "stderr",
     "output_type": "stream",
     "text": [
      "/glade/work/zespinosa/conda-envs/cenv/lib/python3.8/site-packages/numpy/lib/nanfunctions.py:1878: RuntimeWarning: Degrees of freedom <= 0 for slice.\n",
      "  var = nanvar(a, axis=axis, dtype=dtype, out=out, ddof=ddof,\n",
      "/glade/work/zespinosa/conda-envs/cenv/lib/python3.8/site-packages/numpy/lib/nanfunctions.py:1878: RuntimeWarning: Degrees of freedom <= 0 for slice.\n",
      "  var = nanvar(a, axis=axis, dtype=dtype, out=out, ddof=ddof,\n"
     ]
    },
    {
     "data": {
      "text/plain": [
       "<Figure size 800x800 with 0 Axes>"
      ]
     },
     "metadata": {},
     "output_type": "display_data"
    },
    {
     "data": {
      "text/plain": [
       "<Figure size 800x800 with 0 Axes>"
      ]
     },
     "metadata": {},
     "output_type": "display_data"
    },
    {
     "data": {
      "text/plain": [
       "<Figure size 800x800 with 0 Axes>"
      ]
     },
     "metadata": {},
     "output_type": "display_data"
    },
    {
     "data": {
      "text/plain": [
       "<Figure size 800x800 with 0 Axes>"
      ]
     },
     "metadata": {},
     "output_type": "display_data"
    },
    {
     "data": {
      "text/plain": [
       "<Figure size 800x800 with 0 Axes>"
      ]
     },
     "metadata": {},
     "output_type": "display_data"
    },
    {
     "data": {
      "text/plain": [
       "<Figure size 800x800 with 0 Axes>"
      ]
     },
     "metadata": {},
     "output_type": "display_data"
    },
    {
     "data": {
      "text/plain": [
       "<Figure size 800x800 with 0 Axes>"
      ]
     },
     "metadata": {},
     "output_type": "display_data"
    },
    {
     "data": {
      "text/plain": [
       "<Figure size 800x800 with 0 Axes>"
      ]
     },
     "metadata": {},
     "output_type": "display_data"
    },
    {
     "data": {
      "text/plain": [
       "<Figure size 800x800 with 0 Axes>"
      ]
     },
     "metadata": {},
     "output_type": "display_data"
    },
    {
     "data": {
      "text/plain": [
       "<Figure size 800x800 with 0 Axes>"
      ]
     },
     "metadata": {},
     "output_type": "display_data"
    },
    {
     "data": {
      "text/plain": [
       "<Figure size 800x800 with 0 Axes>"
      ]
     },
     "metadata": {},
     "output_type": "display_data"
    },
    {
     "data": {
      "text/plain": [
       "<Figure size 800x800 with 0 Axes>"
      ]
     },
     "metadata": {},
     "output_type": "display_data"
    }
   ],
   "source": [
    "# Plot sea ice concentration and MSLP\n",
    "def spatial_obs_plots(siconc, title, sp):\n",
    "    fig, ax = plot_stationary_sp()\n",
    "    # Plot siconc filled contours\n",
    "    img = ax.contourf(\n",
    "        siconc.longitude,\n",
    "        siconc.latitude,\n",
    "        siconc,\n",
    "        transform=ccrs.SouthPolarStereo(), \n",
    "        levels=np.arange(-.5, .5, .05),\n",
    "        cmap=cmocean.cm.delta,\n",
    "    )\n",
    "    cbar2 = fig.colorbar(img, ax=ax)\n",
    "    ax.set_title(title)\n",
    "    fig.set_size_inches(8, 8)\n",
    "    plt.savefig(sp)\n",
    "    plt.clf()\n",
    "\n",
    "hist_yrs = np.arange(1979, 2000)\n",
    "cur_yrs = np.arange(2000, 2022)\n",
    "\n",
    "siconc_hist = nsidc_siconc.sel(year=hist_yrs).std([\"year\"])\n",
    "siconc_cur = nsidc_siconc.sel(year=cur_yrs).std([\"year\"])\n",
    "siconc_std = siconc_cur - siconc_hist\n",
    "\n",
    "mon = 9\n",
    "for mon in range(1, 13):\n",
    "    spatial_obs_plots(\n",
    "        siconc=siconc_std.sel(month=mon), \n",
    "        title=f\"$\\Delta$ $\\sigma$ (Month={mon})\", \n",
    "        sp=f\"/glade/work/zespinosa/Projects/sia-var-controls/figures/spatial/spatial_siconc_{mon}_std.png\"\n",
    "    )"
   ]
  },
  {
   "cell_type": "code",
   "execution_count": null,
   "id": "762d1dd4-0e0c-4361-a34c-82169a19d76a",
   "metadata": {},
   "outputs": [],
   "source": []
  }
 ],
 "metadata": {
  "kernelspec": {
   "display_name": "Python 3 (ipykernel)",
   "language": "python",
   "name": "python3"
  },
  "language_info": {
   "codemirror_mode": {
    "name": "ipython",
    "version": 3
   },
   "file_extension": ".py",
   "mimetype": "text/x-python",
   "name": "python",
   "nbconvert_exporter": "python",
   "pygments_lexer": "ipython3",
   "version": "3.8.13"
  }
 },
 "nbformat": 4,
 "nbformat_minor": 5
}
